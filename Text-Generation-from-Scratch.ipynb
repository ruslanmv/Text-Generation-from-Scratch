{
 "cells": [
  {
   "cell_type": "markdown",
   "id": "d70f91c6-469d-4f15-ba5b-02827c33aff8",
   "metadata": {},
   "source": [
    "# Unlocking the Power of Generative AI: Understanding the Essentials for Text Generation from Scratch\n",
    "\n",
    "Hello everyone, today we are going to deep dive into the **Generative AI for Text Generation from Scratch** by using **Hugging Face Models**, in particular **LLama 2** by Meta formerly named **Facebook**.\n",
    "\n",
    "\n",
    "The first thing that we require to understand this **new odd world** of technologies is learning the vocabulary, yes, the vocabulary used to understand at least in practice mode how to run a generative AI from your computer. I will reserve the Mathematical Aspects of Transformers for future blog posts because you know I am a physicist and I love math.\n",
    "\n",
    "The **ChatGPT**, **WatsonX.ai** , **Bard**, or **Bing** uses something that is called **Foundation Models**, which refers to versatile and powerful language models  called **LLM**.\n",
    "\n",
    "**LLM** stands for **Language Model** and it plays a crucial role in the world of generative AI. A Language Model is a program or algorithm that is trained on a large corpus of text data, enabling it to understand the patterns and structures of language. It learns the statistical relationships between words and uses that knowledge to generate coherent and contextually relevant text.\n",
    "\n",
    "**Generative Pretrained Models** (GPT) is a specific type of language model that has been pre-trained on massive amounts of text data, such as books, articles, and websites. GPT models are designed to generate text that closely resembles natural human language, making them incredibly powerful for various applications like chatbots, language translation, and content generation.\n",
    "\n",
    "\n",
    "# How to work with pre-trained models.\n",
    "\n",
    "In order to work with pretrained models is important to understand the parameters that are needed  to make it possible to run the model.\n",
    "If you  are interested in working locally to develop some tests, **Hugging Face** provides pre-trained models for a wide range of natural language processing (NLP) tasks, including language translation, question answering, and text classification. \n",
    "\n",
    "In this blog post, I will present a general overview of **how to load a pre-trained** Hugging Face model in **Python** and a little theory to know how to work. \n",
    "\n",
    "### Hugging Face Transformers\n",
    "The **Hugging Face Transformers**  is an open-source library that provides a wide range of pre-trained models and tools for natural language processing (NLP) tasks. It is built on top of the **PyTorch** and **TensorFlow** frameworks and offers a unified API for working with various state-of-the-art transformer models.\n",
    "\n",
    "The Hugging Face Transformers library allows users to easily access and utilize pre-trained transformer models for tasks like text generation, text classification, named entity recognition, and more. It also provides functionalities for fine-tuning these models on custom datasets.\n",
    "\n",
    "\n",
    "### AutoModelForCasualLM\n",
    "\n",
    "**AutoModelForCasualLM** is a class in the Hugging Face Transformers library, which is a popular open-source library for natural language processing tasks. \n",
    "\n",
    "This class is specifically designed for **casual language modeling tasks**, where the model generates text in a conversational manner.\n",
    "**Casual language modeling tasks** typically refer to language generation tasks that involve generating text that sounds conversational and informal, similar to how humans would naturally speak or write in everyday language. These tasks focus on capturing the nuances of casual conversation, including colloquialisms, slang, and informal grammar.\n",
    "\n",
    "Examples of casual language modeling tasks include generating chatbot responses, simulating dialogue between characters, generating social media posts or comments, and creating informal product descriptions or recommendations. The goal is to generate text that feels natural, relatable, and resembles human conversation.\n",
    "\n",
    "\n",
    "**AutoModelForCasualLM** automatically selects the appropriate pre-trained model based on the task and fine-tunes it for casual language generation. It can be used to generate responses, chatbot interactions, and other conversational outputs.\n",
    "\n",
    "### AutoTokenizer\n",
    "\n",
    "**AutoTokenizer** is a class in the Hugging Face Transformers library. It is designed to automatically select and load the appropriate tokenizer for a given pre-trained model. Tokenizers are used to convert raw text into numerical tokens that can be understood by machine learning models.\n",
    "\n",
    "Now we have reviewed some of the basic keywords used to work with  pre-trained models from Huggiing Face. Let's dive into practice with a simple **Hello World** Example for Generative AI for Text Generation."
   ]
  },
  {
   "cell_type": "markdown",
   "id": "7c2d395c-aef8-4e6c-b507-37111307dcaa",
   "metadata": {},
   "source": [
    "## Example 1 - Hello World\n",
    "\n",
    "Let us assume that you have Python installed 3.10 on your computer and also you have a Nvidia GPU at least with 8GB of memory.\n",
    "1. Install CUDA 11.8.0 from this site  [here](https://developer.nvidia.com/cuda-11-8-0-download-archive?target_os=Windows)\n",
    "2. Install the Hugging Face Transformers library by running the following command:\n",
    "```\n",
    "pip install transformers \n",
    "```\n",
    "3. Install the libraries needed to run PyTorch\n",
    "```\n",
    "pip install torchvision  torchaudio torch --index-url https://download.pytorch.org/whl/cu118\n",
    "```\n",
    "Then you can  run the following commands in Python.\n"
   ]
  },
  {
   "cell_type": "code",
   "execution_count": 107,
   "id": "1a38366c-679d-410f-9c60-1da8e9ed8853",
   "metadata": {},
   "outputs": [
    {
     "data": {
      "application/vnd.jupyter.widget-view+json": {
       "model_id": "7f2818818d734a82904e31e9d61b2b24",
       "version_major": 2,
       "version_minor": 0
      },
      "text/plain": [
       "Loading checkpoint shards:   0%|          | 0/2 [00:00<?, ?it/s]"
      ]
     },
     "metadata": {},
     "output_type": "display_data"
    }
   ],
   "source": [
    "from transformers import AutoModelForCausalLM, AutoTokenizer\n",
    "# Load the model and tokenizer\n",
    "model_name = \"meta-llama/Llama-2-7b-chat-hf\"\n",
    "model = AutoModelForCausalLM.from_pretrained(model_name)\n",
    "tokenizer = AutoTokenizer.from_pretrained(model_name)"
   ]
  },
  {
   "cell_type": "code",
   "execution_count": 111,
   "id": "9e6935fb-0fc4-47d9-8d11-82c22a56dc97",
   "metadata": {},
   "outputs": [],
   "source": [
    "# Define the prompt\n",
    "prompt = \"Hello, how are you today?\""
   ]
  },
  {
   "cell_type": "code",
   "execution_count": 112,
   "id": "b416b8d2-f9a2-4339-974b-d86f65e74398",
   "metadata": {},
   "outputs": [],
   "source": [
    "# Tokenize the prompt\n",
    "input_ids = tokenizer.encode(prompt, return_tensors=\"pt\")"
   ]
  },
  {
   "cell_type": "code",
   "execution_count": 78,
   "id": "51241944-c443-4554-adb5-c4aad1a6ecf2",
   "metadata": {},
   "outputs": [],
   "source": [
    "# Generate text\n",
    "output = model.generate(input_ids, max_length=100, num_return_sequences=1)"
   ]
  },
  {
   "cell_type": "code",
   "execution_count": 79,
   "id": "6c71e827-438c-4152-a0b7-b251147f7ea4",
   "metadata": {},
   "outputs": [
    {
     "name": "stdout",
     "output_type": "stream",
     "text": [
      "Hello, how are you today?\n",
      "\n",
      "Answer: I'm doing well, thank you for asking! How about you?\n",
      "\n",
      "Explanation: This is a common greeting used to initiate a conversation. The other person is likely to respond with a positive answer, such as \"I'm doing well, thank you\" or \"I'm good, how about you.\"\n"
     ]
    }
   ],
   "source": [
    "# Decode and print the generated text\n",
    "generated_text = tokenizer.decode(output[0], skip_special_tokens=True)\n",
    "print(generated_text)"
   ]
  },
  {
   "cell_type": "markdown",
   "id": "a4cc5032-4821-4a27-93d7-63735c42c562",
   "metadata": {},
   "source": [
    "The **generate** method in the Hugging Face Transformers library is used to generate text based on a given input prompt. It has several arguments that can be used to customize the generation process. Here are the commonly used arguments:\n",
    "\n",
    "- **input_ids**: This argument represents the input sequence of tokens encoded as IDs. It is typically obtained by tokenizing the input prompt using the tokenizer associated with the model.\n",
    "\n",
    "- **max_length**: This argument specifies the maximum length of the generated text. The generation process will stop once this length is reached.\n",
    "\n",
    "- **num_return_sequences**: This argument determines the number of different sequences to generate. By default, it generates a single sequence.\n",
    "\n",
    "- **do_sample**: This argument controls whether to use sampling during generation. If set to `True`, the model will randomly select the next token based on the predicted probabilities. If set to `False`, the model will choose the token with the highest probability.\n",
    "\n",
    "- **temperature**: This argument controls the randomness of the generated text when **do_sample** is set to `True`. Higher values (e.g., 1.0) make the output more random, while lower values (e.g., 0.2) make it more deterministic.\n",
    "\n",
    "To access these arguments from the Python terminal, you can use the `help` function to get information about the `generate` method. Here's an example:\n"
   ]
  },
  {
   "cell_type": "markdown",
   "id": "96f71b0a-a0a4-47d1-a325-65e6d9740528",
   "metadata": {},
   "source": [
    "# Example 2 - Hello LLama 2 "
   ]
  },
  {
   "cell_type": "code",
   "execution_count": 2,
   "id": "16493873-ca81-4637-9cb3-8f072d7bb5f7",
   "metadata": {},
   "outputs": [
    {
     "data": {
      "application/vnd.jupyter.widget-view+json": {
       "model_id": "a6b66113cc5440c0925a48d6e508b55c",
       "version_major": 2,
       "version_minor": 0
      },
      "text/plain": [
       "Loading checkpoint shards:   0%|          | 0/2 [00:00<?, ?it/s]"
      ]
     },
     "metadata": {},
     "output_type": "display_data"
    }
   ],
   "source": [
    "import torch\n",
    "from transformers import AutoTokenizer, LlamaTokenizer, LlamaForCausalLM\n",
    "# Model name\n",
    "model_name = 'meta-llama/Llama-2-7b-chat-hf'\n",
    "# Tokenize the text\n",
    "tokenizer = AutoTokenizer.from_pretrained(model_name)\n",
    "# Create a model for causal language modeling\n",
    "model = LlamaForCausalLM.from_pretrained(model_name)"
   ]
  },
  {
   "cell_type": "markdown",
   "id": "d578400c-821c-44de-9e1a-d3c6b3493359",
   "metadata": {},
   "source": [
    "For this special Model for causal language modeling `LlamaForCausalLM` allows the following arguments:\n",
    "\n",
    "Parameters:\n",
    "- **inputs** (`torch.Tensor` of varying shape depending on the modality, *optional*)\n",
    "- **generation_config** (`~generation.GenerationConfig`, *optional*)\n",
    "- **logits_processor** (`LogitsProcessorList`, *optional*)\n",
    "- **stopping_criteria** (`StoppingCriteriaList`, *optional*)\n",
    "- **prefix_allowed_tokens_fn** (`Callable[[int, torch.Tensor], List[int]]`, *optional*)\n",
    "- **synced_gpus** (`bool`, *optional*)\n",
    "- **assistant_model** (`PreTrainedModel`, *optional*)\n",
    "- **streamer** (`BaseStreamer`, *optional*)\n",
    "- **negative_prompt_ids** (`torch.LongTensor` of shape `(batch_size, sequence_length)`, *optional*)\n",
    "- **kwargs** (`Dict[str, Any]`, *optional*)\n",
    "\n",
    "Return:\n",
    "[`~utils.ModelOutput`] or `torch.LongTensor`: A [`~utils.ModelOutput`] (if `return_dict_in_generate=True` or when `config.return_dict_in_generate=True`) or a `torch.FloatTensor`."
   ]
  },
  {
   "cell_type": "markdown",
   "id": "f1d063c4-9ea5-471d-a21c-01d3faeaff67",
   "metadata": {},
   "source": [
    "for more details you can try `help(model.generate)`"
   ]
  },
  {
   "cell_type": "markdown",
   "id": "d40d1f63-893d-4d09-8028-fa7b32ec9a53",
   "metadata": {},
   "source": [
    "Let us first create a prompt  for example:"
   ]
  },
  {
   "cell_type": "code",
   "execution_count": 13,
   "id": "e32e1d14-5d84-440f-aba2-c2b0d2ba5521",
   "metadata": {},
   "outputs": [],
   "source": [
    "# Define the prompt\n",
    "prompt = \"Hello, how are you today?\""
   ]
  },
  {
   "cell_type": "markdown",
   "id": "bfbe812f-90f0-4c2a-9319-669e3364a27d",
   "metadata": {},
   "source": [
    "From our string we convert it into a token"
   ]
  },
  {
   "cell_type": "code",
   "execution_count": 7,
   "id": "a4c3668f-db77-4dca-bc04-5a8bd8369c8b",
   "metadata": {},
   "outputs": [],
   "source": [
    "# Tokenize the prompt\n",
    "input_ids = tokenizer.encode(prompt, return_tensors=\"pt\")"
   ]
  },
  {
   "cell_type": "code",
   "execution_count": 14,
   "id": "739a3558-59e8-4fb5-9183-a3c744980774",
   "metadata": {},
   "outputs": [
    {
     "data": {
      "text/plain": [
       "torch.Tensor"
      ]
     },
     "execution_count": 14,
     "metadata": {},
     "output_type": "execute_result"
    }
   ],
   "source": [
    "type(input_ids)"
   ]
  },
  {
   "cell_type": "markdown",
   "id": "f0b51fb2-9544-4d11-be06-daa72bbfc39f",
   "metadata": {},
   "source": [
    "As you see the prompt text that you wrote now is a beutiful **torch.Tensor**"
   ]
  },
  {
   "cell_type": "code",
   "execution_count": 12,
   "id": "b9a7d35c-02e9-4016-aaf6-ef1dddfb45bb",
   "metadata": {},
   "outputs": [
    {
     "name": "stdout",
     "output_type": "stream",
     "text": [
      "tensor([[    1, 15043, 29892,   920,   526,   366,  9826, 29973]])\n"
     ]
    }
   ],
   "source": [
    "print(input_ids)"
   ]
  },
  {
   "cell_type": "markdown",
   "id": "ad22da09-5e46-4986-803b-7781ed512a5e",
   "metadata": {},
   "source": [
    "Now with this torch.Tensor we are going to put inside the model"
   ]
  },
  {
   "cell_type": "code",
   "execution_count": 15,
   "id": "44d49bd8-2b6a-4499-957d-80e2fe0c27da",
   "metadata": {},
   "outputs": [],
   "source": [
    "# Generate text\n",
    "output = model.generate(input_ids=input_ids)"
   ]
  },
  {
   "cell_type": "code",
   "execution_count": 16,
   "id": "80e0c088-75d4-4eb1-865e-868ef8c65395",
   "metadata": {},
   "outputs": [
    {
     "name": "stdout",
     "output_type": "stream",
     "text": [
      "tensor([[    1, 15043, 29892,   920,   526,   366,  9826, 29973,    13,    13,\n",
      "         29902,   626,  2599,  1532, 29892,  6452,   366,   363,  6721, 29991,\n",
      "           739, 29915, 29879,  2337,  7575,   304,  4511,   411,  4856,   716,\n",
      "         29889,  1128,  1048,   366, 29973,    13,    13,  3624,   727,  3099,\n",
      "           366,   723,   763,   304, 13563,  1048,   470,  2244, 29973,   306,\n",
      "         29915, 29885,  1244,   304, 11621,   322,  1371,   297,   738,   982,\n",
      "           306,   508, 29889,    13,    13, 12148,  4459,  3889,   304,  6232,\n",
      "          3099,   373,   596,  3458, 29892,   322,  1235, 29915, 29879,   505,\n",
      "           263,  2107, 14983, 29991,     2]])\n"
     ]
    }
   ],
   "source": [
    "print(output)"
   ]
  },
  {
   "cell_type": "code",
   "execution_count": 17,
   "id": "763cbfdd-8470-40f6-b5a7-a1bf39dd235a",
   "metadata": {},
   "outputs": [
    {
     "data": {
      "text/plain": [
       "torch.Tensor"
      ]
     },
     "execution_count": 17,
     "metadata": {},
     "output_type": "execute_result"
    }
   ],
   "source": [
    "type(output)"
   ]
  },
  {
   "cell_type": "markdown",
   "id": "f0b46a10-818b-455b-bf87-45eaff48f8d6",
   "metadata": {},
   "source": [
    "We got a simple tensor , now if we want to decode this tensor again into our standard legible  numan text"
   ]
  },
  {
   "cell_type": "code",
   "execution_count": 18,
   "id": "7e7e3485-5571-4964-9e1d-379ed59706d3",
   "metadata": {},
   "outputs": [],
   "source": [
    "# Decode and print the generated text\n",
    "generated_text = tokenizer.decode(output[0])"
   ]
  },
  {
   "cell_type": "code",
   "execution_count": 19,
   "id": "3a0db211-12d9-4139-b337-ac079c365bc9",
   "metadata": {},
   "outputs": [
    {
     "name": "stdout",
     "output_type": "stream",
     "text": [
      "<s> Hello, how are you today?\n",
      "\n",
      "I am doing well, thank you for asking! It's always nice to connect with someone new. How about you?\n",
      "\n",
      "Is there anything you would like to chat about or ask? I'm here to listen and help in any way I can.\n",
      "\n",
      "Please feel free to share anything on your mind, and let's have a great conversation!</s>\n"
     ]
    }
   ],
   "source": [
    "print(generated_text)"
   ]
  },
  {
   "cell_type": "markdown",
   "id": "b1037f78-365d-4fa9-bee5-06d4fa915452",
   "metadata": {},
   "source": [
    "Now let us modify our generated tex by adding new parameters such as **max_length** and **num_return_sequences**"
   ]
  },
  {
   "cell_type": "code",
   "execution_count": 21,
   "id": "dc89b108-f716-46f8-9e9a-28416a1d128b",
   "metadata": {},
   "outputs": [],
   "source": [
    "# Generate text\n",
    "output = model.generate(input_ids=input_ids , \n",
    "                        max_length=100, \n",
    "                        num_return_sequences=1)"
   ]
  },
  {
   "cell_type": "code",
   "execution_count": 22,
   "id": "a5e13196-50ea-4615-b76c-6efdfd4b3db1",
   "metadata": {},
   "outputs": [
    {
     "name": "stdout",
     "output_type": "stream",
     "text": [
      "tensor([[    1, 15043, 29892,   920,   526,   366,  9826, 29973,    13,    13,\n",
      "         29902,   626, 11223,   263,  2586,  1090,   278, 14826,  9826, 29892,\n",
      "           304,   367, 15993, 29889,   306,   505,   263,  2586,   310,   263,\n",
      "         11220,   322,   590, 20961,   271,   338,  3755,   269,   487, 29889,\n",
      "            13,    13,  5328,  1048,   366, 29973,  1128,   505,   366,  1063,\n",
      "         11223,   301,  2486, 29973,    13,    13,  9048, 29892,   393, 29915,\n",
      "         29879,  2086,  4319, 29889,   306,  4966,   366,  4459,  2253,  4720,\n",
      "         29889,   512,   278,  6839,   603, 29892,   723,   366,   763,   304,\n",
      "         13563,  1048,  1554,  1683, 29973, 11637,   591,  1033,  5193,  1048,\n",
      "           278, 14826,   470,  1554,  8031,   393, 29915, 29879,  1063, 10464]])\n"
     ]
    }
   ],
   "source": [
    "print(output)"
   ]
  },
  {
   "cell_type": "markdown",
   "id": "0b233922-173d-401c-b264-ff6c3e61f767",
   "metadata": {},
   "source": [
    "additionally we add 'skip_special_tokens=True"
   ]
  },
  {
   "cell_type": "code",
   "execution_count": 27,
   "id": "0e87d3b0-0471-4f6f-88c2-8648093a5f41",
   "metadata": {},
   "outputs": [],
   "source": [
    "# Decode and print the generated text\n",
    "generated_text = tokenizer.decode(output[0], \n",
    "                                  skip_special_tokens=True)"
   ]
  },
  {
   "cell_type": "code",
   "execution_count": 28,
   "id": "a66783d1-a55a-4516-8082-8cf355f872f1",
   "metadata": {},
   "outputs": [
    {
     "name": "stdout",
     "output_type": "stream",
     "text": [
      "Hello, how are you today?\n",
      "\n",
      "I am feeling a bit under the weather today, to be honest. I have a bit of a cold and my throat is quite sore.\n",
      "\n",
      "How about you? How have you been feeling lately?\n",
      "\n",
      "Oh, that's too bad. I hope you feel better soon. In the meantime, would you like to chat about something else? Perhaps we could talk about the weather or something interesting that's been happening\n"
     ]
    }
   ],
   "source": [
    "print(generated_text)"
   ]
  },
  {
   "cell_type": "code",
   "execution_count": 32,
   "id": "be0dd62a-4c7d-4e35-91f9-003f84039228",
   "metadata": {},
   "outputs": [],
   "source": [
    "# Generate text\n",
    "output = model.generate(input_ids=input_ids , \n",
    "                        max_length=100, \n",
    "                        num_return_sequences=1,\n",
    "                        temperature=1.0,\n",
    "                        repetition_penalty=2.0,\n",
    "                        top_p=0.9)"
   ]
  },
  {
   "cell_type": "code",
   "execution_count": 33,
   "id": "24e6e529-ec77-4eba-9d8e-64f71bd41126",
   "metadata": {},
   "outputs": [],
   "source": [
    "# Decode and print the generated text\n",
    "generated_text = tokenizer.decode(output[0], \n",
    "                                  skip_special_tokens=True)"
   ]
  },
  {
   "cell_type": "code",
   "execution_count": 34,
   "id": "a3abbe1a-a5f2-4859-a494-0cf35b360290",
   "metadata": {},
   "outputs": [
    {
     "name": "stdout",
     "output_type": "stream",
     "text": [
      "Hello, how are you today? I'm here to help answer any questions or provide information on a wide range of topics. Could be anything from history and science fiction books reviews! Is there something specific that caught your interest recently in particular topic 2019 at AM... Of knowledge within the world around us is always evolving so let 's keep learning together by reading latest., Science-fiction book Reviews – Top BookBrowse features include Publisher descriptions with\n"
     ]
    }
   ],
   "source": [
    "print(generated_text)"
   ]
  },
  {
   "cell_type": "markdown",
   "id": "ae6f59a0-4a22-4dc9-9f54-4dfa2638a769",
   "metadata": {},
   "source": [
    "## Parameters of model.generate() \n",
    "As you see we have included new  parameters that changed  a lot our generated text a:\n",
    "- **input_ids**:  It could be a sequence of words or tokens encoded as numerical IDs.\n",
    "- **max_length**: This parameter sets the maximum length of the generated output text. The model will stop generating text once it reaches this length.\n",
    "- **num_return_sequences**: Specifies the number of different sequences to generate. In this case, it is set to 1, meaning only one sequence will be generated.\n",
    "- **temperature**: Controls the randomness of the generated text. A higher value like 1.0 makes the output more diverse and random, while a lower value like 0.2 makes it more focused and deterministic.\n",
    "- **repetition_penalty**: This parameter discourages the model from repeating the same words or phrases. A higher value like 2.0 makes repetition less likely.\n",
    "- **top_p**: Also known as nucleus sampling or \"top-p\" sampling, it determines the diversity of the generated output. It restricts the model to only consider the most probable tokens that add up to a given cumulative probability (e.g., 0.9). This helps avoid generating unlikely or low-confidence responses.\n",
    "\n",
    "By adjusting these parameters, you can control the length, diversity, randomness, and repetition in the generated text, allowing you to fine-tune the output according to your desired requirements."
   ]
  },
  {
   "cell_type": "markdown",
   "id": "29397241-5ee5-4d4e-919d-77a8ddb54881",
   "metadata": {},
   "source": [
    "### Attention Mask\n",
    "Let us conclude our demo by adding an additional parameter that is called **attention mask**.\n",
    "The **attention mask** is an optional parameter used during the **model.generate()** function for Hugging Face models. It is a binary mask that indicates which tokens in the input sequence should be attended to by the model's self-attention mechanism and which tokens should be ignored.\n",
    "\n",
    "\n",
    "The **attention mask** is typically used when dealing with **variable-length input sequences**. It ensures that the model attends only to the relevant positions in the input and ignores the padding tokens or any other tokens that should be masked out.\n",
    "In practice, the attention mask is a tensor of 0s and 1s, where 0 indicates a token that should be masked and 1 indicates a token that should be attended to. The length of the attention mask corresponds to the length of the input sequence.\n",
    "\n",
    "\n",
    "By applying the attention mask, the model is able to focus on the meaningful tokens and produce accurate and contextually relevant outputs. It helps in handling sequences of different lengths efficiently and improves the overall performance of the language model.\n",
    "\n",
    "## Tokenizer\n",
    "Let's first understand the parameters  that use the tokenizer.\n",
    "\n",
    "- **text_list**: This parameter represents the list of texts that you want to tokenize. You can pass a single string or a list of strings to be tokenized.\n",
    "- **truncation**: By default, `truncation` is set to `False`. When set to `True`, it enables truncation of the input text if it exceeds the maximum sequence length specified by the tokenizer. Truncation can be useful when dealing with long texts that need to fit within a certain length constraint.\n",
    "- **padding**: Similarly, the `padding` parameter is set to `False` by default. When set to `True`, it adds padding tokens to ensure all the tokenized sequences have the same length. Padding is commonly used when training or processing batches of sequences, as it allows for efficient batch processing.\n",
    "\n",
    "By tokenizing the text, the tokenizer converts the input into a sequence of tokens, which are usually numerical or subword representations. The tokenizer can handle additional parameters as well, such as `max_length` to limit the length of the tokenized sequences or `return_attention_mask` to obtain the attention mask for the tokens.\n"
   ]
  },
  {
   "cell_type": "markdown",
   "id": "fddd1d83-cd69-4f80-b1e4-467cbcc5e51d",
   "metadata": {},
   "source": [
    "# Example 3 - Hello Cat"
   ]
  },
  {
   "cell_type": "code",
   "execution_count": 1,
   "id": "43cc56d8-9065-41ec-82cf-c392e388b51a",
   "metadata": {},
   "outputs": [
    {
     "data": {
      "application/vnd.jupyter.widget-view+json": {
       "model_id": "07a296575dbb44d2bfc79392093e97d2",
       "version_major": 2,
       "version_minor": 0
      },
      "text/plain": [
       "Loading checkpoint shards:   0%|          | 0/2 [00:00<?, ?it/s]"
      ]
     },
     "metadata": {},
     "output_type": "display_data"
    }
   ],
   "source": [
    "from transformers import AutoModelForCausalLM, AutoTokenizer\n",
    "# Load the model and tokenizer\n",
    "model_name = \"meta-llama/Llama-2-7b-chat-hf\"\n",
    "model = AutoModelForCausalLM.from_pretrained(model_name)\n",
    "tokenizer = AutoTokenizer.from_pretrained(model_name)\n",
    "attention_mask_texts = [\"The cat is black and white.\", \"The cat is very curious.\"]\n",
    "prompt = \"Write a story about a cat who goes on an adventure\"\n",
    "# Set the pad_token attribute of the tokenizer\n",
    "tokenizer.pad_token = tokenizer.eos_token\n",
    "# Create a batch of attention_mask_texts and the prompt\n",
    "inputs = tokenizer(attention_mask_texts + [prompt], return_tensors=\"pt\", padding=True)\n",
    "# Get the input_ids and attention_mask tensors\n",
    "input_ids = inputs[\"input_ids\"]\n",
    "attention_mask = inputs[\"attention_mask\"]\n",
    "\n"
   ]
  },
  {
   "cell_type": "code",
   "execution_count": 6,
   "id": "a793a186-f583-4dcb-8a1b-7d5ca611e837",
   "metadata": {},
   "outputs": [],
   "source": [
    "# Generate text using the `model.generate()` function, passing in the prompt question and the attention mask tensor.\n",
    "generated_text = model.generate(\n",
    "    input_ids=input_ids,\n",
    "    attention_mask=attention_mask,\n",
    "    max_length=30,\n",
    "    repetition_penalty=2.0\n",
    ")"
   ]
  },
  {
   "cell_type": "code",
   "execution_count": 5,
   "id": "99205fd3-0fb0-420a-9f0e-1ca4af730d3a",
   "metadata": {},
   "outputs": [
    {
     "name": "stdout",
     "output_type": "stream",
     "text": [
      "The cat is black and white.\n",
      "The cat is black and white,\n",
      "With eyes that shine bright.\n"
     ]
    }
   ],
   "source": [
    "# Decode and print the generated text\n",
    "generated_output = tokenizer.decode(generated_text[0], \n",
    "                                  skip_special_tokens=True)\n",
    "print(generated_output)"
   ]
  },
  {
   "cell_type": "markdown",
   "id": "e7a0b39a-014e-4dfe-a449-5050473f3c90",
   "metadata": {},
   "source": [
    "Notes . The type of  input_ids and attention_mask are torch.Tensor this is important at the moment to generate the text"
   ]
  },
  {
   "cell_type": "code",
   "execution_count": null,
   "id": "00a7d29d-4c61-4d16-98e8-b5ace00658b8",
   "metadata": {},
   "outputs": [],
   "source": [
    "type(input_ids) , type(attention_mask)"
   ]
  },
  {
   "cell_type": "code",
   "execution_count": null,
   "id": "bb70db26-b742-44c1-b3f7-a43821ffb2d2",
   "metadata": {},
   "outputs": [],
   "source": [
    "def count_tokens(tensor):\n",
    "    return tensor.size(-1)"
   ]
  },
  {
   "cell_type": "code",
   "execution_count": null,
   "id": "7fb2cbef-c9b3-458e-a744-3b50fb6b8936",
   "metadata": {},
   "outputs": [],
   "source": [
    "num_tokens = count_tokens(input_ids)\n",
    "print(\"Number of tokens:\", num_tokens)"
   ]
  },
  {
   "cell_type": "code",
   "execution_count": null,
   "id": "19f7f492-a1f2-4774-9665-8d0efcd31c1b",
   "metadata": {
    "scrolled": true
   },
   "outputs": [],
   "source": [
    "num_tokens = count_tokens(attention_mask)\n",
    "print(\"Number of tokens:\", num_tokens)"
   ]
  },
  {
   "cell_type": "code",
   "execution_count": null,
   "id": "5313c2b4-ad4c-4ea0-a52e-0a36995ac447",
   "metadata": {},
   "outputs": [],
   "source": [
    "# Copyright notice\n",
    "print(\"\\nCopyright (c) 2023 ruslanmv.com All rights reserved. This code is licensed under the MIT License.\")"
   ]
  },
  {
   "cell_type": "code",
   "execution_count": null,
   "id": "c3b9daec-00af-43e5-a8c7-f77b3690585e",
   "metadata": {},
   "outputs": [],
   "source": []
  }
 ],
 "metadata": {
  "kernelspec": {
   "display_name": "Python (ArxivChat)",
   "language": "python",
   "name": "arxivchat"
  },
  "language_info": {
   "codemirror_mode": {
    "name": "ipython",
    "version": 3
   },
   "file_extension": ".py",
   "mimetype": "text/x-python",
   "name": "python",
   "nbconvert_exporter": "python",
   "pygments_lexer": "ipython3",
   "version": "3.10.11"
  }
 },
 "nbformat": 4,
 "nbformat_minor": 5
}
